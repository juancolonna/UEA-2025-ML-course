{
  "cells": [
    {
      "cell_type": "code",
      "execution_count": null,
      "metadata": {
        "collapsed": true,
        "deletable": true,
        "editable": true,
        "id": "IaryAPKYw7cw"
      },
      "outputs": [],
      "source": [
        "# %matplotlib inline\n",
        "# import matplotlib.pyplot as plt\n",
        "# import seaborn as sns; sns.set()\n",
        "# import numpy as np"
      ]
    },
    {
      "cell_type": "code",
      "execution_count": null,
      "metadata": {
        "deletable": true,
        "editable": true,
        "id": "FdydSbVgw7cy"
      },
      "outputs": [],
      "source": [
        "# rng = np.random.RandomState(1)\n",
        "# x = 10 * rng.rand(50)\n",
        "# y = 2 * x - 5 + rng.randn(50)\n",
        "# plt.scatter(x, y);"
      ]
    },
    {
      "cell_type": "markdown",
      "metadata": {
        "deletable": true,
        "editable": true,
        "id": "DKFmYc_Nw7cz"
      },
      "source": [
        "Podemos usar o estimador ``LinearRegression`` do Scikit-Learn para ajustar esses dados e construir a linha de melhor ajuste, mas quem seria a variável alvo e quem seria o 'rotulo'?"
      ]
    },
    {
      "cell_type": "code",
      "execution_count": null,
      "metadata": {
        "deletable": true,
        "editable": true,
        "id": "OLXz-zaAw7cz"
      },
      "outputs": [],
      "source": [
        "# from sklearn.linear_model import LinearRegression\n",
        "\n",
        "# model = LinearRegression(fit_intercept=True)\n",
        "\n",
        "# model.fit(... , ...) # x[:, np.newaxis], y"
      ]
    },
    {
      "cell_type": "markdown",
      "source": [
        "Agora para fazer um teste como podemos consultar esta função?"
      ],
      "metadata": {
        "id": "7iOQwnJA_J28"
      }
    },
    {
      "cell_type": "code",
      "source": [
        "# xfit = np.linspace(0, 10, 1000)\n",
        "# yfit = model.predict(xfit[:, np.newaxis])\n",
        "\n",
        "# plt.scatter(x, y)\n",
        "# plt.plot(xfit, yfit,'--r');"
      ],
      "metadata": {
        "id": "3O76hHuj-5RP"
      },
      "execution_count": null,
      "outputs": []
    },
    {
      "cell_type": "markdown",
      "metadata": {
        "deletable": true,
        "editable": true,
        "id": "NlkJjjw6w7cz"
      },
      "source": [
        "A inclinação e o termo livre (a e b) estão contidas nos parâmetros de ajuste do modelo, que no Scikit-Learn são ``coef_`` e ``intercept_``:"
      ]
    },
    {
      "cell_type": "code",
      "execution_count": null,
      "metadata": {
        "deletable": true,
        "editable": true,
        "id": "8vgBmJHkw7cz"
      },
      "outputs": [],
      "source": [
        "# print(\"Model slope:    \", model.coef_[0])\n",
        "# print(\"Model intercept:\", model.intercept_)"
      ]
    },
    {
      "cell_type": "markdown",
      "metadata": {
        "deletable": true,
        "editable": true,
        "id": "eUbxAPDGw7c0"
      },
      "source": [
        "Regressão linear multipla"
      ]
    },
    {
      "cell_type": "code",
      "execution_count": null,
      "metadata": {
        "deletable": true,
        "editable": true,
        "id": "D8U-Y705w7c0"
      },
      "outputs": [],
      "source": [
        "# rng = np.random.RandomState(1)\n",
        "# X = 10 * rng.rand(100, 3)\n",
        "# y = 0.5 + np.dot(X, [1.5, -2., 1.])\n",
        "\n",
        "# model.fit(X, y)\n",
        "# print(model.intercept_)\n",
        "# print(model.coef_)"
      ]
    },
    {
      "cell_type": "markdown",
      "metadata": {
        "deletable": true,
        "editable": true,
        "id": "2G_HhChiw7c1"
      },
      "source": [
        "Aqui, os dados $y$ são construídos a partir de três valores $x$ aleatórios, e a regressão linear recupera os coeficientes usados ​​para construir os dados.\n",
        "\n",
        "Dessa forma, podemos usar o estimador único ``LinearRegression`` para ajustar retas, planos ou hiperplanos aos nossos dados.\n",
        "\n",
        "Ainda parece que essa abordagem se limitaria a relações estritamente lineares entre variáveis, mas também podemos flexibilizar isso."
      ]
    },
    {
      "cell_type": "markdown",
      "metadata": {
        "deletable": true,
        "editable": true,
        "id": "NfqrW44yw7c1"
      },
      "source": [
        "## Regressão com transformação de features\n",
        "\n",
        "O truque que vamos usar para adaptar a regressão linear a relações não lineares entre variáveis ​​é transformar os dados de acordo com *funções base*.\n",
        "\n",
        "A ideia é pegar nosso modelo linear multidimensional:\n",
        "\n",
        "$$\n",
        "y = a_0 + a_1 x_1 + a_2 x_2 + a_3 x_3 + \\cdots\n",
        "$$\n",
        "\n",
        "e construir $x_1, x_2, x_3,$ e assim por diante, a partir de nossa entrada unidimensional $x$.\n",
        "\n",
        "Ou seja, consideramos $x_n = f_n(x)$, onde $f_n()$ é uma função que transforma nossos dados.\n",
        "\n",
        "Por exemplo, se $f_n(x) = x^n$, nosso modelo se torna uma regressão polinomial:\n",
        "\n",
        "$$\n",
        "y = a_0 + a_1 x + a_2 x^2 + a_3 x^3 + \\cdots\n",
        "$$\n",
        "\n",
        "Observe que este *ainda é um modelo linear* — a linearidade se refere ao fato de que os coeficientes $a_n$ nunca se multiplicam ou se dividem.\n",
        "\n",
        "O que efetivamente fizemos foi pegar nossos valores unidimensionais de $x$ e projetá-los em uma dimensão superior, de modo que um ajuste linear possa ajustar relações mais complexas entre $x$ e $y$."
      ]
    },
    {
      "cell_type": "markdown",
      "metadata": {
        "deletable": true,
        "editable": true,
        "id": "3gicJXwkw7c1"
      },
      "source": [
        "### Polynomial basis functions\n",
        "\n",
        "This polynomial projection is useful enough that it is built into Scikit-Learn, using the ``PolynomialFeatures`` transformer:"
      ]
    },
    {
      "cell_type": "code",
      "execution_count": null,
      "metadata": {
        "deletable": true,
        "editable": true,
        "id": "MoY1GKYcw7c1"
      },
      "outputs": [],
      "source": [
        "# from sklearn.preprocessing import PolynomialFeatures\n",
        "\n",
        "# x = np.array([2, 3, 4])\n",
        "# poly = PolynomialFeatures(3, include_bias=False)\n",
        "# poly.fit_transform(x[:, None])"
      ]
    },
    {
      "cell_type": "markdown",
      "metadata": {
        "deletable": true,
        "editable": true,
        "id": "agdKHub8w7c2"
      },
      "source": [
        "We see here that the transformer has converted our one-dimensional array into a three-dimensional array by taking the exponent of each value.\n",
        "This new, higher-dimensional data representation can then be plugged into a linear regression.\n",
        "\n",
        "As we saw in [Feature Engineering](05.04-Feature-Engineering.ipynb), the cleanest way to accomplish this is to use a pipeline.\n",
        "Let's make a 7th-degree polynomial model in this way:"
      ]
    },
    {
      "cell_type": "code",
      "execution_count": null,
      "metadata": {
        "collapsed": true,
        "deletable": true,
        "editable": true,
        "id": "sZ4MyqPEw7c2"
      },
      "outputs": [],
      "source": [
        "# from sklearn.pipeline import make_pipeline\n",
        "\n",
        "# poly_model = make_pipeline(PolynomialFeatures(7), LinearRegression())"
      ]
    },
    {
      "cell_type": "markdown",
      "metadata": {
        "deletable": true,
        "editable": true,
        "id": "4v6G5TyDw7c2"
      },
      "source": [
        "With this transform in place, we can use the linear model to fit much more complicated relationships between $x$ and $y$.\n",
        "For example, here is a sine wave with noise:"
      ]
    },
    {
      "cell_type": "code",
      "execution_count": null,
      "metadata": {
        "deletable": true,
        "editable": true,
        "id": "hJPMts_Ow7c2"
      },
      "outputs": [],
      "source": [
        "# rng = np.random.RandomState(1)\n",
        "# x = 10 * rng.rand(50)\n",
        "# y = np.sin(x) + 0.1 * rng.randn(50)\n",
        "\n",
        "# poly_model.fit(x[:, np.newaxis], y)\n",
        "# yfit = poly_model.predict(xfit[:, np.newaxis])\n",
        "\n",
        "# plt.scatter(x, y)\n",
        "# plt.plot(...,...); # xfit, yfit"
      ]
    },
    {
      "cell_type": "markdown",
      "metadata": {
        "deletable": true,
        "editable": true,
        "id": "U8r7w0bQw7dI"
      },
      "source": [
        "## Example: Predicting Bicycle Traffic"
      ]
    },
    {
      "cell_type": "markdown",
      "metadata": {
        "collapsed": true,
        "deletable": true,
        "editable": true,
        "id": "5Eswmi7Cw7dI"
      },
      "source": [
        "Como exemplo, vamos verificar se podemos prever o número de viagens de bicicleta pela Ponte Fremont, em Seattle, com base no clima, na estação do ano e em outros fatores.\n",
        "\n",
        "Vamos juntar os dados das bicicletas a outro conjunto de dados e tentaremos determinar em que medida os fatores climáticos e sazonais — temperatura, precipitação e horas de luz do dia — afetam o volume de tráfego de bicicletas por este corredor.\n",
        "\n",
        "Felizmente, a NOAA disponibiliza seus [dados diários das estações meteorológicas](http://www.ncdc.noaa.gov/cdo-web/search?datasetid=GHCND) e podemos facilmente usar o Pandas para unir as duas fontes de dados.\n",
        "\n",
        "Realizaremos uma regressão linear simples para relacionar informações meteorológicas e outras informações à contagem de bicicletas, a fim de estimar como uma mudança em qualquer um desses parâmetros afeta o número de ciclistas em um determinado dia."
      ]
    },
    {
      "cell_type": "code",
      "execution_count": null,
      "metadata": {
        "collapsed": true,
        "deletable": true,
        "editable": true,
        "id": "If7b9GTDw7dJ"
      },
      "outputs": [],
      "source": [
        "# !wget https://github.com/juancolonna/UEA-2025-ML-course/raw/main/datasets/BicycleWeather.csv\n",
        "# !wget https://github.com/juancolonna/UEA-2025-ML-course/raw/main/datasets/FremontBridge.csv"
      ]
    },
    {
      "cell_type": "code",
      "execution_count": null,
      "metadata": {
        "deletable": true,
        "editable": true,
        "id": "jakeHoBcw7dJ"
      },
      "outputs": [],
      "source": [
        "# import pandas as pd\n",
        "\n",
        "# counts = pd.read_csv('FremontBridge.csv', index_col='Date', parse_dates=True, date_format='%m/%d/%Y %I:%M:%S %p')\n",
        "# counts.sort_index(inplace=True)\n",
        "# display(counts)\n",
        "\n",
        "# weather = pd.read_csv('BicycleWeather.csv', index_col='DATE', parse_dates=True)\n",
        "# display(weather)"
      ]
    },
    {
      "cell_type": "markdown",
      "metadata": {
        "deletable": true,
        "editable": true,
        "id": "Yuo2H-ziw7dJ"
      },
      "source": [
        "Calcularemos o tráfego diário total de bicicletas e o colocaremos em seu próprio quadro de dados:"
      ]
    },
    {
      "cell_type": "code",
      "execution_count": null,
      "metadata": {
        "deletable": true,
        "editable": true,
        "id": "IMSwHoLBw7dJ"
      },
      "outputs": [],
      "source": [
        "# daily = counts.resample('d').sum()\n",
        "# daily['Total'] = daily['Fremont Bridge Total']\n",
        "# daily = daily[['Total']] # remove other columns\n",
        "# daily"
      ]
    },
    {
      "cell_type": "markdown",
      "metadata": {
        "deletable": true,
        "editable": true,
        "id": "7fnUQJ-Mw7dJ"
      },
      "source": [
        "Vimos anteriormente que os padrões de uso geralmente variam de um dia para o outro; vamos levar isso em conta em nossos dados adicionando colunas binárias que indicam o dia da semana:"
      ]
    },
    {
      "cell_type": "code",
      "execution_count": null,
      "metadata": {
        "collapsed": true,
        "deletable": true,
        "editable": true,
        "id": "G33KdDpAw7dJ"
      },
      "outputs": [],
      "source": [
        "# days = ['Mon', 'Tue', 'Wed', 'Thu', 'Fri', 'Sat', 'Sun']\n",
        "# for i in range(7):\n",
        "#     daily[days[i]] = (daily.index.dayofweek == i).astype(float)\n",
        "\n",
        "# daily"
      ]
    },
    {
      "cell_type": "markdown",
      "metadata": {
        "deletable": true,
        "editable": true,
        "id": "HbAxAtrcw7dJ"
      },
      "source": [
        "Da mesma forma, podemos esperar que os passageiros se comportem de maneira diferente nos feriados; vamos adicionar um indicador disso também:"
      ]
    },
    {
      "cell_type": "code",
      "execution_count": null,
      "metadata": {
        "deletable": true,
        "editable": true,
        "id": "-rW3l-nGw7dK"
      },
      "outputs": [],
      "source": [
        "# from pandas.tseries.holiday import USFederalHolidayCalendar\n",
        "\n",
        "# cal = USFederalHolidayCalendar()\n",
        "# holidays = cal.holidays('2012', '2021')\n",
        "# daily = daily.join(pd.Series(1, index=holidays, name='holiday'))\n",
        "# daily['holiday'] = daily['holiday'].fillna(0)\n",
        "# daily"
      ]
    },
    {
      "cell_type": "markdown",
      "metadata": {
        "deletable": true,
        "editable": true,
        "id": "TmnC865-w7dK"
      },
      "source": [
        "Também podemos suspeitar que as horas de luz do dia afetariam o número de pessoas que andam de bicicleta; vamos usar o cálculo astronômico padrão para adicionar essas informações:"
      ]
    },
    {
      "cell_type": "code",
      "execution_count": null,
      "metadata": {
        "deletable": true,
        "editable": true,
        "id": "2zB9nGIVw7dK"
      },
      "outputs": [],
      "source": [
        "# def hours_of_daylight(date, axis=23.44, latitude=47.61):\n",
        "#     \"\"\"Compute the hours of daylight for the given date\"\"\"\n",
        "#     days = (date - pd.Timestamp(2021, 12, 21)).days # winter solstice\n",
        "#     m = (1. - np.tan(np.radians(latitude)) * np.tan(np.radians(axis) * np.cos(days * 2 * np.pi / 365.25)))\n",
        "#     return 24. * np.degrees(np.arccos(1 - np.clip(m, 0, 2))) / 180.\n",
        "\n",
        "# daily['daylight_hrs'] = list(map(hours_of_daylight, daily.index))\n",
        "# daily[['daylight_hrs']].plot()\n",
        "# plt.ylim(8, 17)\n",
        "\n",
        "# daily"
      ]
    },
    {
      "cell_type": "markdown",
      "metadata": {
        "deletable": true,
        "editable": true,
        "id": "9aA_R8_ew7dK"
      },
      "source": [
        "Também podemos adicionar a temperatura média e a precipitação total aos dados. Além dos centímetros de precipitação, vamos adicionar um sinalizador que indica se um dia está seco (com precipitação zero):"
      ]
    },
    {
      "cell_type": "code",
      "execution_count": null,
      "metadata": {
        "deletable": true,
        "editable": true,
        "id": "IUkW6HUHw7dK"
      },
      "outputs": [],
      "source": [
        "# # temperatures are in 1/10 deg C; convert to C\n",
        "# weather['TMIN'] /= 10\n",
        "# weather['TMAX'] /= 10\n",
        "# weather['Temp (C)'] = 0.5 * (weather['TMIN'] + weather['TMAX'])\n",
        "\n",
        "# # precip is in 1/10 mm; convert to inches\n",
        "# weather['PRCP'] /= 254\n",
        "# weather['dry day'] = (weather['PRCP'] == 0).astype(int)\n",
        "\n",
        "# daily = daily.join(weather[['PRCP', 'Temp (C)', 'dry day']])\n",
        "# daily['PRCP'] = daily['PRCP'].fillna(0)\n",
        "# daily"
      ]
    },
    {
      "cell_type": "code",
      "source": [
        "# daily['PRCP'] # tomar cuidado na interpretação, esta variável está em milĩmetros cúbicos"
      ],
      "metadata": {
        "id": "Gbmp3GcUlC4Q"
      },
      "execution_count": null,
      "outputs": []
    },
    {
      "cell_type": "code",
      "metadata": {
        "id": "c54ab2ac"
      },
      "source": [
        "# # verificar a existencia de algum valor faltante\n",
        "# nan_check = daily.isnull()\n",
        "\n",
        "# print(\"\\nNumber of NaN values per column:\")\n",
        "# display(nan_check.sum())"
      ],
      "execution_count": null,
      "outputs": []
    },
    {
      "cell_type": "code",
      "source": [
        "# Drop any rows with null values\n",
        "# daily.dropna(axis=0, how='any', inplace=True) # não teoria não é necessário"
      ],
      "metadata": {
        "id": "H4kv4nkOgQox"
      },
      "execution_count": null,
      "outputs": []
    },
    {
      "cell_type": "markdown",
      "metadata": {
        "deletable": true,
        "editable": true,
        "id": "us-1Zkqpw7dK"
      },
      "source": [
        "Por fim, vamos adicionar um contador que aumenta a partir do primeiro dia e mede quantos anos se passaram.\n",
        "Isso nos permitirá medir qualquer aumento ou diminuição anual observada nas travessias diárias:"
      ]
    },
    {
      "cell_type": "code",
      "execution_count": null,
      "metadata": {
        "deletable": true,
        "editable": true,
        "id": "sMErd0mJw7dL"
      },
      "outputs": [],
      "source": [
        "# daily['annual'] = (daily.index - daily.index[0]).days / 365.\n",
        "# display(daily)"
      ]
    },
    {
      "cell_type": "markdown",
      "metadata": {
        "deletable": true,
        "editable": true,
        "id": "3QnMcILLw7dL"
      },
      "source": [
        "Com isso em mãos, podemos escolher as colunas a serem usadas e ajustar um modelo de regressão linear aos nossos dados.\n",
        "Definiremos ``fit_intercept = False``, porque os sinalizadores diários operam essencialmente como suas próprias interceptações específicas do dia:"
      ]
    },
    {
      "cell_type": "code",
      "execution_count": null,
      "metadata": {
        "deletable": true,
        "editable": true,
        "id": "yjUH_t2sw7dL"
      },
      "outputs": [],
      "source": [
        "# column_names = ['Mon', 'Tue', 'Wed', 'Thu', 'Fri', 'Sat', 'Sun', 'holiday',\n",
        "#                 'daylight_hrs', 'PRCP', 'dry day', 'Temp (C)', 'annual']\n",
        "\n",
        "# X = daily[column_names]\n",
        "# y = daily['Total']\n",
        "\n",
        "# model = LinearRegression(fit_intercept=False)\n",
        "# model.fit(.., ...)\n",
        "\n",
        "# daily['predicted'] = model.predict(X)"
      ]
    },
    {
      "cell_type": "code",
      "execution_count": null,
      "metadata": {
        "deletable": true,
        "editable": true,
        "id": "Jk3CbiK7w7dL"
      },
      "outputs": [],
      "source": [
        "# daily[['Total', 'predicted']].plot(alpha=0.5, figsize=(25,5));"
      ]
    },
    {
      "cell_type": "markdown",
      "metadata": {
        "deletable": true,
        "editable": true,
        "id": "WmJoDQZEw7dM"
      },
      "source": [
        "Duas coisas são evidentes:\n",
        "\n",
        "* deixamos de lado algumas características importantes, especialmente durante o verão. Ou nossas características não estão completas (ou seja, as pessoas decidem se vão de bicicleta para o trabalho com base em mais do que apenas essas características) ou existem algumas relações não lineares que deixamos de levar em consideração (por exemplo, talvez as pessoas andem menos de bicicleta em temperaturas altas e baixas).\n",
        "\n",
        "* lockdown pandemia a partir do ano 2020\n",
        "\n",
        "No entanto, nossa aproximação aproximada é suficiente para nos dar alguns insights, e podemos analisar os coeficientes do modelo linear para estimar o quanto cada característica contribui para a contagem diária de bicicletas:"
      ]
    },
    {
      "cell_type": "code",
      "execution_count": null,
      "metadata": {
        "deletable": true,
        "editable": true,
        "id": "HMjDWbVzw7dM"
      },
      "outputs": [],
      "source": [
        "# params = pd.Series(model.coef_, index=X.columns)\n",
        "# params"
      ]
    },
    {
      "cell_type": "markdown",
      "metadata": {
        "deletable": true,
        "editable": true,
        "id": "JFRwTpGlw7dM"
      },
      "source": [
        "Esses números são difíceis de interpretar sem alguma medida de sua incerteza.\n",
        "Podemos calcular essas incertezas rapidamente usando reamostragens bootstrap dos dados:"
      ]
    },
    {
      "cell_type": "code",
      "execution_count": null,
      "metadata": {
        "deletable": true,
        "editable": true,
        "id": "NEfB2AAkw7dM"
      },
      "outputs": [],
      "source": [
        "# from sklearn.utils import resample\n",
        "\n",
        "# np.random.seed(1)\n",
        "\n",
        "# err = np.std([model.fit(*resample(X, y)).coef_ for i in range(1000)], 0) # * unpack operator"
      ]
    },
    {
      "cell_type": "markdown",
      "metadata": {
        "deletable": true,
        "editable": true,
        "id": "HfP4Zp97w7dM"
      },
      "source": [
        "Com esses erros estimados, vamos analisar novamente os resultados:"
      ]
    },
    {
      "cell_type": "code",
      "execution_count": null,
      "metadata": {
        "deletable": true,
        "editable": true,
        "id": "c5hpdclww7dM"
      },
      "outputs": [],
      "source": [
        "# print(pd.DataFrame({'effect': params.round(0), 'error': err.round(0)}))"
      ]
    },
    {
      "cell_type": "markdown",
      "metadata": {
        "deletable": true,
        "editable": true,
        "id": "ma891UJMw7dN"
      },
      "source": [
        "Primeiro, vemos que há uma tendência relativamente estável na linha de base semanal: há muito mais ciclistas durante a semana do que nos fins de semana e feriados.\n",
        "\n",
        "Observamos que, para cada hora adicional de luz do dia, 150 ± 19 pessoas a mais optam por pedalar; um aumento de temperatura de um grau Celsius incentiva 732 ± 46 pessoas a pegarem suas bicicletas;\n",
        "\n",
        "Um dia seco significa, em média, 1.023 ± 71 ciclistas a mais, e cada polegada de precipitação significa 340 ± 270 pessoas a mais que deixam suas bicicletas em casa.\n",
        "\n",
        "Considerando todos esses efeitos, observamos uma redução modesta de 273 ± 13 ciclistas diários a cada ano (devido ao efeito da pandemia).\n",
        "\n",
        "É quase certo que nosso modelo não contém alguma informação relevante. Por exemplo, efeitos não lineares (como os efeitos da precipitação *e* da temperatura fria) e tendências não lineares dentro de cada variável (como a relutância em pedalar em temperaturas muito frias e muito quentes) não podem ser considerados neste modelo.\n",
        "\n",
        "Além disso, descartamos algumas das informações mais refinadas (como a diferença entre uma manhã chuvosa e uma tarde chuvosa) e ignoramos as correlações entre os dias (como o possível efeito de uma terça-feira chuvosa nos números de quarta-feira, ou o efeito de um dia ensolarado inesperado após uma sequência de dias chuvosos).\n",
        "\n",
        "Todos esses são efeitos potencialmente interessantes, e agora você tem as ferramentas para começar a explorá-los, se desejar!"
      ]
    },
    {
      "cell_type": "markdown",
      "metadata": {
        "id": "d392b2ef"
      },
      "source": [
        "Aqui está uma breve explicação das métricas de avaliação de regressão que calculamos:\n",
        "\n",
        "*   **Erro Médio Absoluto (MAE - Mean Absolute Error)**: Representa a média das diferenças absolutas entre os valores reais e as previsões do modelo. Ele nos dá uma ideia do erro típico que podemos esperar nas previsões, sem considerar a direção do erro (superestimação ou subestimação).\n",
        "\n",
        "$$\n",
        "MAE = \\frac{1}{n} \\sum_{i=1}^{n} |y_i - \\hat{y}_i|\n",
        "$$\n",
        "\n",
        "*   **Erro Quadrático Médio (MSE - Mean Squared Error)**: É a média dos erros quadrados. Ele penaliza erros maiores de forma mais significativa do que o MAE, pois os erros são elevados ao quadrado.\n",
        "    \n",
        "$$\n",
        "MSE = \\frac{1}{n} \\sum_{i=1}^{n} (y_i - \\hat{y}_i)^2\n",
        "$$\n",
        "\n",
        "*   **Raiz do Erro Quadrático Médio (RMSE - Root Mean Squared Error)**: É a raiz quadrada do MSE. Está na mesma unidade da variável que estamos tentando prever, o que o torna mais fácil de interpretar do que o MSE. Ele representa o desvio padrão dos resíduos (os erros de previsão).\n",
        "$$\n",
        "RMSE = \\sqrt{MSE} = \\sqrt{\\frac{1}{n} \\sum_{i=1}^{n} (y_i - \\hat{y}_i)^2}\n",
        "$$\n",
        "\n",
        "*   **R² (Coeficiente de Determinação)**: Indica a proporção da variância na variável de destino (tráfego total de bicicletas) que é explicada pelo modelo. Um valor de R² próximo de 1 sugere que o modelo explica uma grande parte da variância nos dados, enquanto um valor próximo de 0 indica que o modelo explica muito pouco.\n",
        "$$\n",
        "R^2 = 1 - \\frac{MSE}{Var(y)} = 1 - \\frac{\\sum_{i=1}^{n} (y_i - \\hat{y}_i)^2}{\\sum_{i=1}^{n} (y_i - \\bar{y})^2}\n",
        "$$\n",
        "Onde $y_i$ são os valores reais, $\\hat{y}_i$ são as previsões do modelo e $\\bar{y}$ é a média dos valores reais."
      ]
    },
    {
      "cell_type": "code",
      "metadata": {
        "id": "68b4d48b"
      },
      "source": [
        "# from sklearn.metrics import mean_absolute_error, mean_squared_error, r2_score\n",
        "\n",
        "# y_true = daily['Total']\n",
        "# y_pred = daily['predicted']\n",
        "\n",
        "# mae = mean_absolute_error(..., ...)\n",
        "# mse = mean_squared_error(y_true, y_pred)\n",
        "# rmse = np.sqrt(mse) # Calculate RMSE from MSE\n",
        "# r2 = r2_score(y_true, y_pred)\n",
        "\n",
        "# print(f\"Mean Absolute Error (MAE): {mae:.2f}\")\n",
        "# print(f\"Mean Squared Error (MSE): {mse:.2f}\")\n",
        "# print(f\"Root Mean Squared Error (RMSE): {rmse:.2f}\")\n",
        "# print(f\"R-squared (R²): {r2:.2f}\")"
      ],
      "execution_count": null,
      "outputs": []
    },
    {
      "cell_type": "markdown",
      "source": [
        "Inclua sua tarefa a partir daqui"
      ],
      "metadata": {
        "id": "UdI5QNg2oIfP"
      }
    },
    {
      "cell_type": "code",
      "source": [],
      "metadata": {
        "id": "5kVTZPQ9oK2m"
      },
      "execution_count": null,
      "outputs": []
    }
  ],
  "metadata": {
    "anaconda-cloud": {},
    "kernelspec": {
      "display_name": "Python 3",
      "language": "python",
      "name": "python3"
    },
    "language_info": {
      "codemirror_mode": {
        "name": "ipython",
        "version": 3
      },
      "file_extension": ".py",
      "mimetype": "text/x-python",
      "name": "python",
      "nbconvert_exporter": "python",
      "pygments_lexer": "ipython3",
      "version": "3.5.1"
    },
    "colab": {
      "provenance": []
    }
  },
  "nbformat": 4,
  "nbformat_minor": 0
}