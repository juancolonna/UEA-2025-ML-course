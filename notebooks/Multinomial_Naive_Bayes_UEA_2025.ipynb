{
  "nbformat": 4,
  "nbformat_minor": 0,
  "metadata": {
    "colab": {
      "provenance": []
    },
    "kernelspec": {
      "name": "python3",
      "display_name": "Python 3"
    },
    "language_info": {
      "name": "python"
    }
  },
  "cells": [
    {
      "cell_type": "markdown",
      "metadata": {
        "id": "MAwXN89It-sj"
      },
      "source": [
        "Naive Bayes Multinomial é freqüentemente usado na classificação de texto, onde os atributos estão relacionados à contagem de palavras ou frequências dentro dos documentos a serem classificados.\n",
        "\n",
        "Neste exemplo usaremos a contagem de palavras esparsas do corpus dos **20 Newsgroups** para mostrar como podemos classificar esses pequenos documentos em categorias."
      ]
    },
    {
      "cell_type": "code",
      "metadata": {
        "id": "zLGyqo-i0Goi"
      },
      "source": [
        "# import numpy as np\n",
        "# import matplotlib.pyplot as plt\n",
        "# import seaborn as sns\n",
        "# from sklearn.datasets import fetch_20newsgroups\n",
        "\n",
        "# data = fetch_20newsgroups()"
      ],
      "execution_count": 78,
      "outputs": []
    },
    {
      "cell_type": "code",
      "metadata": {
        "id": "dKy5PIFi_Iqd",
        "colab": {
          "base_uri": "https://localhost:8080/"
        },
        "outputId": "88d5267d-7e45-478d-ba8e-e0ee85f45e6f"
      },
      "source": [
        "# data.target_names"
      ],
      "execution_count": 79,
      "outputs": [
        {
          "output_type": "execute_result",
          "data": {
            "text/plain": [
              "['alt.atheism',\n",
              " 'comp.graphics',\n",
              " 'comp.os.ms-windows.misc',\n",
              " 'comp.sys.ibm.pc.hardware',\n",
              " 'comp.sys.mac.hardware',\n",
              " 'comp.windows.x',\n",
              " 'misc.forsale',\n",
              " 'rec.autos',\n",
              " 'rec.motorcycles',\n",
              " 'rec.sport.baseball',\n",
              " 'rec.sport.hockey',\n",
              " 'sci.crypt',\n",
              " 'sci.electronics',\n",
              " 'sci.med',\n",
              " 'sci.space',\n",
              " 'soc.religion.christian',\n",
              " 'talk.politics.guns',\n",
              " 'talk.politics.mideast',\n",
              " 'talk.politics.misc',\n",
              " 'talk.religion.misc']"
            ]
          },
          "metadata": {},
          "execution_count": 79
        }
      ]
    },
    {
      "cell_type": "markdown",
      "metadata": {
        "id": "50PUIQrtJDMA"
      },
      "source": [
        "Para simplificar vamos utilizar um subset de categorias"
      ]
    },
    {
      "cell_type": "code",
      "metadata": {
        "id": "OToWgPOcJBCB",
        "colab": {
          "base_uri": "https://localhost:8080/"
        },
        "outputId": "a01e639c-0350-4bd7-bb49-6b18505bf734"
      },
      "source": [
        "# categories = ['talk.religion.misc', 'soc.religion.christian', 'sci.space', 'comp.graphics']\n",
        "\n",
        "# # download do treino e do teste\n",
        "# train = fetch_20newsgroups(subset='train', categories=categories )\n",
        "# test = fetch_20newsgroups(subset='test', categories=categories )\n",
        "\n",
        "# # train = fetch_20newsgroups(subset='train', categories=categories, remove=('headers', 'footers', 'quotes'))\n",
        "# # test = fetch_20newsgroups(subset='test', categories=categories, remove=('headers', 'footers', 'quotes'))\n",
        "\n",
        "# print(len(train.data))"
      ],
      "execution_count": 83,
      "outputs": [
        {
          "output_type": "stream",
          "name": "stdout",
          "text": [
            "2153\n"
          ]
        }
      ]
    },
    {
      "cell_type": "code",
      "metadata": {
        "id": "MY0Vl0EQLDcu",
        "colab": {
          "base_uri": "https://localhost:8080/"
        },
        "outputId": "0fbcfdb5-afe4-4e95-eb50-ba9877e57021"
      },
      "source": [
        "# print(train.data[0])\n",
        "# print(train.target[0])\n",
        "# print(train.target_names[train.target[0]])\n",
        "# print(train.target_names)"
      ],
      "execution_count": 81,
      "outputs": [
        {
          "output_type": "stream",
          "name": "stdout",
          "text": [
            "From: jono@mac-ak-24.rtsg.mot.com (Jon Ogden)\n",
            "Subject: Re: Losing your temper is not a Christian trait\n",
            "Organization: Motorola LPA Development\n",
            "Lines: 26\n",
            "\n",
            "In article <Apr.23.02.55.47.1993.3138@geneva.rutgers.edu>, jcj@tellabs.com\n",
            "(jcj) wrote:\n",
            "\n",
            "> I'd like to remind people of the withering of the fig tree and Jesus\n",
            "> driving the money changers et. al. out of the temple.  I think those\n",
            "> were two instances of Christ showing anger (as part of His human side).\n",
            "> \n",
            "Yes, and what about Paul saying:\n",
            "\n",
            "26 Be ye angry, and sin not: let not the sun go down upon your wrath:\n",
            "(Ephesians 4:26).\n",
            "\n",
            "Obviously then, we can be angry w/o sinning.\n",
            "\n",
            "Jon\n",
            "\n",
            "------------------------------------------------\n",
            "Jon Ogden         - jono@mac-ak-24.rtsg.mot.com\n",
            "Motorola Cellular - Advanced Products Division\n",
            "Voice: 708-632-2521      Data: 708-632-6086\n",
            "------------------------------------------------\n",
            "\n",
            "They drew a circle and shut him out.\n",
            "Heretic, Rebel, a thing to flout.\n",
            "But Love and I had the wit to win;\n",
            "We drew a circle and took him in.\n",
            "\n",
            "2\n",
            "soc.religion.christian\n",
            "['comp.graphics', 'sci.space', 'soc.religion.christian', 'talk.religion.misc']\n"
          ]
        }
      ]
    },
    {
      "cell_type": "code",
      "metadata": {
        "id": "Cdrk3OTfLyS2",
        "colab": {
          "base_uri": "https://localhost:8080/",
          "height": 256
        },
        "outputId": "0a1e23e6-6c0c-4fb5-da56-dedf190f4790"
      },
      "source": [
        "# from sklearn.feature_extraction.text import CountVectorizer\n",
        "# import pandas as pd\n",
        "\n",
        "# # stop words:\n",
        "# # the\n",
        "# # of\n",
        "# # an\n",
        "\n",
        "# vec = CountVectorizer()\n",
        "# # vec = CountVectorizer(stop_words='english')\n",
        "\n",
        "# X = vec.fit_transform(train.data)\n",
        "# df = pd.DataFrame(X.toarray(), columns=vec.get_feature_names_out())\n",
        "# df.head()"
      ],
      "execution_count": 84,
      "outputs": [
        {
          "output_type": "execute_result",
          "data": {
            "text/plain": [
              "   00  000  0000  00000  000000  000005102000  000021  000062david42  0000vec  \\\n",
              "0   0    0     0      0       0             0       0              0        0   \n",
              "1   0    0     0      0       0             0       0              0        0   \n",
              "2   0    0     0      0       0             0       0              0        0   \n",
              "3   0    0     0      0       0             0       0              0        0   \n",
              "4   0    0     0      0       0             0       0              0        0   \n",
              "\n",
              "   0001  ...  zwakke  zware  zwart  zwarte  zxmkr08  zyeh  zyxel  ªl  \\\n",
              "0     0  ...       0      0      0       0        0     0      0   0   \n",
              "1     0  ...       0      0      0       0        0     0      0   0   \n",
              "2     0  ...       0      0      0       0        0     0      0   0   \n",
              "3     0  ...       0      0      0       0        0     0      0   0   \n",
              "4     0  ...       0      0      0       0        0     0      0   0   \n",
              "\n",
              "   º_________________________________________________º_____________________º  \\\n",
              "0                                                  0                           \n",
              "1                                                  0                           \n",
              "2                                                  0                           \n",
              "3                                                  0                           \n",
              "4                                                  0                           \n",
              "\n",
              "   ºnd  \n",
              "0    0  \n",
              "1    0  \n",
              "2    0  \n",
              "3    0  \n",
              "4    0  \n",
              "\n",
              "[5 rows x 35329 columns]"
            ],
            "text/html": [
              "\n",
              "  <div id=\"df-ae60a2c1-cd17-471c-9d25-7091f6daef71\" class=\"colab-df-container\">\n",
              "    <div>\n",
              "<style scoped>\n",
              "    .dataframe tbody tr th:only-of-type {\n",
              "        vertical-align: middle;\n",
              "    }\n",
              "\n",
              "    .dataframe tbody tr th {\n",
              "        vertical-align: top;\n",
              "    }\n",
              "\n",
              "    .dataframe thead th {\n",
              "        text-align: right;\n",
              "    }\n",
              "</style>\n",
              "<table border=\"1\" class=\"dataframe\">\n",
              "  <thead>\n",
              "    <tr style=\"text-align: right;\">\n",
              "      <th></th>\n",
              "      <th>00</th>\n",
              "      <th>000</th>\n",
              "      <th>0000</th>\n",
              "      <th>00000</th>\n",
              "      <th>000000</th>\n",
              "      <th>000005102000</th>\n",
              "      <th>000021</th>\n",
              "      <th>000062david42</th>\n",
              "      <th>0000vec</th>\n",
              "      <th>0001</th>\n",
              "      <th>...</th>\n",
              "      <th>zwakke</th>\n",
              "      <th>zware</th>\n",
              "      <th>zwart</th>\n",
              "      <th>zwarte</th>\n",
              "      <th>zxmkr08</th>\n",
              "      <th>zyeh</th>\n",
              "      <th>zyxel</th>\n",
              "      <th>ªl</th>\n",
              "      <th>º_________________________________________________º_____________________º</th>\n",
              "      <th>ºnd</th>\n",
              "    </tr>\n",
              "  </thead>\n",
              "  <tbody>\n",
              "    <tr>\n",
              "      <th>0</th>\n",
              "      <td>0</td>\n",
              "      <td>0</td>\n",
              "      <td>0</td>\n",
              "      <td>0</td>\n",
              "      <td>0</td>\n",
              "      <td>0</td>\n",
              "      <td>0</td>\n",
              "      <td>0</td>\n",
              "      <td>0</td>\n",
              "      <td>0</td>\n",
              "      <td>...</td>\n",
              "      <td>0</td>\n",
              "      <td>0</td>\n",
              "      <td>0</td>\n",
              "      <td>0</td>\n",
              "      <td>0</td>\n",
              "      <td>0</td>\n",
              "      <td>0</td>\n",
              "      <td>0</td>\n",
              "      <td>0</td>\n",
              "      <td>0</td>\n",
              "    </tr>\n",
              "    <tr>\n",
              "      <th>1</th>\n",
              "      <td>0</td>\n",
              "      <td>0</td>\n",
              "      <td>0</td>\n",
              "      <td>0</td>\n",
              "      <td>0</td>\n",
              "      <td>0</td>\n",
              "      <td>0</td>\n",
              "      <td>0</td>\n",
              "      <td>0</td>\n",
              "      <td>0</td>\n",
              "      <td>...</td>\n",
              "      <td>0</td>\n",
              "      <td>0</td>\n",
              "      <td>0</td>\n",
              "      <td>0</td>\n",
              "      <td>0</td>\n",
              "      <td>0</td>\n",
              "      <td>0</td>\n",
              "      <td>0</td>\n",
              "      <td>0</td>\n",
              "      <td>0</td>\n",
              "    </tr>\n",
              "    <tr>\n",
              "      <th>2</th>\n",
              "      <td>0</td>\n",
              "      <td>0</td>\n",
              "      <td>0</td>\n",
              "      <td>0</td>\n",
              "      <td>0</td>\n",
              "      <td>0</td>\n",
              "      <td>0</td>\n",
              "      <td>0</td>\n",
              "      <td>0</td>\n",
              "      <td>0</td>\n",
              "      <td>...</td>\n",
              "      <td>0</td>\n",
              "      <td>0</td>\n",
              "      <td>0</td>\n",
              "      <td>0</td>\n",
              "      <td>0</td>\n",
              "      <td>0</td>\n",
              "      <td>0</td>\n",
              "      <td>0</td>\n",
              "      <td>0</td>\n",
              "      <td>0</td>\n",
              "    </tr>\n",
              "    <tr>\n",
              "      <th>3</th>\n",
              "      <td>0</td>\n",
              "      <td>0</td>\n",
              "      <td>0</td>\n",
              "      <td>0</td>\n",
              "      <td>0</td>\n",
              "      <td>0</td>\n",
              "      <td>0</td>\n",
              "      <td>0</td>\n",
              "      <td>0</td>\n",
              "      <td>0</td>\n",
              "      <td>...</td>\n",
              "      <td>0</td>\n",
              "      <td>0</td>\n",
              "      <td>0</td>\n",
              "      <td>0</td>\n",
              "      <td>0</td>\n",
              "      <td>0</td>\n",
              "      <td>0</td>\n",
              "      <td>0</td>\n",
              "      <td>0</td>\n",
              "      <td>0</td>\n",
              "    </tr>\n",
              "    <tr>\n",
              "      <th>4</th>\n",
              "      <td>0</td>\n",
              "      <td>0</td>\n",
              "      <td>0</td>\n",
              "      <td>0</td>\n",
              "      <td>0</td>\n",
              "      <td>0</td>\n",
              "      <td>0</td>\n",
              "      <td>0</td>\n",
              "      <td>0</td>\n",
              "      <td>0</td>\n",
              "      <td>...</td>\n",
              "      <td>0</td>\n",
              "      <td>0</td>\n",
              "      <td>0</td>\n",
              "      <td>0</td>\n",
              "      <td>0</td>\n",
              "      <td>0</td>\n",
              "      <td>0</td>\n",
              "      <td>0</td>\n",
              "      <td>0</td>\n",
              "      <td>0</td>\n",
              "    </tr>\n",
              "  </tbody>\n",
              "</table>\n",
              "<p>5 rows × 35329 columns</p>\n",
              "</div>\n",
              "    <div class=\"colab-df-buttons\">\n",
              "\n",
              "  <div class=\"colab-df-container\">\n",
              "    <button class=\"colab-df-convert\" onclick=\"convertToInteractive('df-ae60a2c1-cd17-471c-9d25-7091f6daef71')\"\n",
              "            title=\"Convert this dataframe to an interactive table.\"\n",
              "            style=\"display:none;\">\n",
              "\n",
              "  <svg xmlns=\"http://www.w3.org/2000/svg\" height=\"24px\" viewBox=\"0 -960 960 960\">\n",
              "    <path d=\"M120-120v-720h720v720H120Zm60-500h600v-160H180v160Zm220 220h160v-160H400v160Zm0 220h160v-160H400v160ZM180-400h160v-160H180v160Zm440 0h160v-160H620v160ZM180-180h160v-160H180v160Zm440 0h160v-160H620v160Z\"/>\n",
              "  </svg>\n",
              "    </button>\n",
              "\n",
              "  <style>\n",
              "    .colab-df-container {\n",
              "      display:flex;\n",
              "      gap: 12px;\n",
              "    }\n",
              "\n",
              "    .colab-df-convert {\n",
              "      background-color: #E8F0FE;\n",
              "      border: none;\n",
              "      border-radius: 50%;\n",
              "      cursor: pointer;\n",
              "      display: none;\n",
              "      fill: #1967D2;\n",
              "      height: 32px;\n",
              "      padding: 0 0 0 0;\n",
              "      width: 32px;\n",
              "    }\n",
              "\n",
              "    .colab-df-convert:hover {\n",
              "      background-color: #E2EBFA;\n",
              "      box-shadow: 0px 1px 2px rgba(60, 64, 67, 0.3), 0px 1px 3px 1px rgba(60, 64, 67, 0.15);\n",
              "      fill: #174EA6;\n",
              "    }\n",
              "\n",
              "    .colab-df-buttons div {\n",
              "      margin-bottom: 4px;\n",
              "    }\n",
              "\n",
              "    [theme=dark] .colab-df-convert {\n",
              "      background-color: #3B4455;\n",
              "      fill: #D2E3FC;\n",
              "    }\n",
              "\n",
              "    [theme=dark] .colab-df-convert:hover {\n",
              "      background-color: #434B5C;\n",
              "      box-shadow: 0px 1px 3px 1px rgba(0, 0, 0, 0.15);\n",
              "      filter: drop-shadow(0px 1px 2px rgba(0, 0, 0, 0.3));\n",
              "      fill: #FFFFFF;\n",
              "    }\n",
              "  </style>\n",
              "\n",
              "    <script>\n",
              "      const buttonEl =\n",
              "        document.querySelector('#df-ae60a2c1-cd17-471c-9d25-7091f6daef71 button.colab-df-convert');\n",
              "      buttonEl.style.display =\n",
              "        google.colab.kernel.accessAllowed ? 'block' : 'none';\n",
              "\n",
              "      async function convertToInteractive(key) {\n",
              "        const element = document.querySelector('#df-ae60a2c1-cd17-471c-9d25-7091f6daef71');\n",
              "        const dataTable =\n",
              "          await google.colab.kernel.invokeFunction('convertToInteractive',\n",
              "                                                    [key], {});\n",
              "        if (!dataTable) return;\n",
              "\n",
              "        const docLinkHtml = 'Like what you see? Visit the ' +\n",
              "          '<a target=\"_blank\" href=https://colab.research.google.com/notebooks/data_table.ipynb>data table notebook</a>'\n",
              "          + ' to learn more about interactive tables.';\n",
              "        element.innerHTML = '';\n",
              "        dataTable['output_type'] = 'display_data';\n",
              "        await google.colab.output.renderOutput(dataTable, element);\n",
              "        const docLink = document.createElement('div');\n",
              "        docLink.innerHTML = docLinkHtml;\n",
              "        element.appendChild(docLink);\n",
              "      }\n",
              "    </script>\n",
              "  </div>\n",
              "\n",
              "\n",
              "    <div id=\"df-23e48b8e-260a-4d1a-855a-f0ab8f700a70\">\n",
              "      <button class=\"colab-df-quickchart\" onclick=\"quickchart('df-23e48b8e-260a-4d1a-855a-f0ab8f700a70')\"\n",
              "                title=\"Suggest charts\"\n",
              "                style=\"display:none;\">\n",
              "\n",
              "<svg xmlns=\"http://www.w3.org/2000/svg\" height=\"24px\"viewBox=\"0 0 24 24\"\n",
              "     width=\"24px\">\n",
              "    <g>\n",
              "        <path d=\"M19 3H5c-1.1 0-2 .9-2 2v14c0 1.1.9 2 2 2h14c1.1 0 2-.9 2-2V5c0-1.1-.9-2-2-2zM9 17H7v-7h2v7zm4 0h-2V7h2v10zm4 0h-2v-4h2v4z\"/>\n",
              "    </g>\n",
              "</svg>\n",
              "      </button>\n",
              "\n",
              "<style>\n",
              "  .colab-df-quickchart {\n",
              "      --bg-color: #E8F0FE;\n",
              "      --fill-color: #1967D2;\n",
              "      --hover-bg-color: #E2EBFA;\n",
              "      --hover-fill-color: #174EA6;\n",
              "      --disabled-fill-color: #AAA;\n",
              "      --disabled-bg-color: #DDD;\n",
              "  }\n",
              "\n",
              "  [theme=dark] .colab-df-quickchart {\n",
              "      --bg-color: #3B4455;\n",
              "      --fill-color: #D2E3FC;\n",
              "      --hover-bg-color: #434B5C;\n",
              "      --hover-fill-color: #FFFFFF;\n",
              "      --disabled-bg-color: #3B4455;\n",
              "      --disabled-fill-color: #666;\n",
              "  }\n",
              "\n",
              "  .colab-df-quickchart {\n",
              "    background-color: var(--bg-color);\n",
              "    border: none;\n",
              "    border-radius: 50%;\n",
              "    cursor: pointer;\n",
              "    display: none;\n",
              "    fill: var(--fill-color);\n",
              "    height: 32px;\n",
              "    padding: 0;\n",
              "    width: 32px;\n",
              "  }\n",
              "\n",
              "  .colab-df-quickchart:hover {\n",
              "    background-color: var(--hover-bg-color);\n",
              "    box-shadow: 0 1px 2px rgba(60, 64, 67, 0.3), 0 1px 3px 1px rgba(60, 64, 67, 0.15);\n",
              "    fill: var(--button-hover-fill-color);\n",
              "  }\n",
              "\n",
              "  .colab-df-quickchart-complete:disabled,\n",
              "  .colab-df-quickchart-complete:disabled:hover {\n",
              "    background-color: var(--disabled-bg-color);\n",
              "    fill: var(--disabled-fill-color);\n",
              "    box-shadow: none;\n",
              "  }\n",
              "\n",
              "  .colab-df-spinner {\n",
              "    border: 2px solid var(--fill-color);\n",
              "    border-color: transparent;\n",
              "    border-bottom-color: var(--fill-color);\n",
              "    animation:\n",
              "      spin 1s steps(1) infinite;\n",
              "  }\n",
              "\n",
              "  @keyframes spin {\n",
              "    0% {\n",
              "      border-color: transparent;\n",
              "      border-bottom-color: var(--fill-color);\n",
              "      border-left-color: var(--fill-color);\n",
              "    }\n",
              "    20% {\n",
              "      border-color: transparent;\n",
              "      border-left-color: var(--fill-color);\n",
              "      border-top-color: var(--fill-color);\n",
              "    }\n",
              "    30% {\n",
              "      border-color: transparent;\n",
              "      border-left-color: var(--fill-color);\n",
              "      border-top-color: var(--fill-color);\n",
              "      border-right-color: var(--fill-color);\n",
              "    }\n",
              "    40% {\n",
              "      border-color: transparent;\n",
              "      border-right-color: var(--fill-color);\n",
              "      border-top-color: var(--fill-color);\n",
              "    }\n",
              "    60% {\n",
              "      border-color: transparent;\n",
              "      border-right-color: var(--fill-color);\n",
              "    }\n",
              "    80% {\n",
              "      border-color: transparent;\n",
              "      border-right-color: var(--fill-color);\n",
              "      border-bottom-color: var(--fill-color);\n",
              "    }\n",
              "    90% {\n",
              "      border-color: transparent;\n",
              "      border-bottom-color: var(--fill-color);\n",
              "    }\n",
              "  }\n",
              "</style>\n",
              "\n",
              "      <script>\n",
              "        async function quickchart(key) {\n",
              "          const quickchartButtonEl =\n",
              "            document.querySelector('#' + key + ' button');\n",
              "          quickchartButtonEl.disabled = true;  // To prevent multiple clicks.\n",
              "          quickchartButtonEl.classList.add('colab-df-spinner');\n",
              "          try {\n",
              "            const charts = await google.colab.kernel.invokeFunction(\n",
              "                'suggestCharts', [key], {});\n",
              "          } catch (error) {\n",
              "            console.error('Error during call to suggestCharts:', error);\n",
              "          }\n",
              "          quickchartButtonEl.classList.remove('colab-df-spinner');\n",
              "          quickchartButtonEl.classList.add('colab-df-quickchart-complete');\n",
              "        }\n",
              "        (() => {\n",
              "          let quickchartButtonEl =\n",
              "            document.querySelector('#df-23e48b8e-260a-4d1a-855a-f0ab8f700a70 button');\n",
              "          quickchartButtonEl.style.display =\n",
              "            google.colab.kernel.accessAllowed ? 'block' : 'none';\n",
              "        })();\n",
              "      </script>\n",
              "    </div>\n",
              "\n",
              "    </div>\n",
              "  </div>\n"
            ],
            "application/vnd.google.colaboratory.intrinsic+json": {
              "type": "dataframe",
              "variable_name": "df"
            }
          },
          "metadata": {},
          "execution_count": 84
        }
      ]
    },
    {
      "cell_type": "code",
      "source": [
        "# len(df.columns)"
      ],
      "metadata": {
        "id": "rz4GtVIrUooH",
        "colab": {
          "base_uri": "https://localhost:8080/"
        },
        "outputId": "091ff394-b813-46fb-c6c3-dd3b6adaa94e"
      },
      "execution_count": 85,
      "outputs": [
        {
          "output_type": "execute_result",
          "data": {
            "text/plain": [
              "35329"
            ]
          },
          "metadata": {},
          "execution_count": 85
        }
      ]
    },
    {
      "cell_type": "code",
      "metadata": {
        "id": "47bZDZweEd6E",
        "colab": {
          "base_uri": "https://localhost:8080/"
        },
        "outputId": "25833f38-a170-425f-d57a-e1698013d011"
      },
      "source": [
        "# train.target[0]"
      ],
      "execution_count": 86,
      "outputs": [
        {
          "output_type": "execute_result",
          "data": {
            "text/plain": [
              "np.int64(2)"
            ]
          },
          "metadata": {},
          "execution_count": 86
        }
      ]
    },
    {
      "cell_type": "code",
      "metadata": {
        "id": "sOcpfKipM7WU",
        "colab": {
          "base_uri": "https://localhost:8080/"
        },
        "outputId": "ce8d6e5b-b0b9-447b-e5d1-afde1f8d6a60"
      },
      "source": [
        "# X_dense = X.toarray()\n",
        "# features_names = vec.get_feature_names_out()\n",
        "\n",
        "# ## palavras da instacia 0 com ocorrencias maiores que 0\n",
        "# for i in range(X_dense.shape[1]):\n",
        "#     if X_dense[0,i] != 0:\n",
        "#         print(features_names[i], X[0,i])"
      ],
      "execution_count": 87,
      "outputs": [
        {
          "output_type": "stream",
          "name": "stdout",
          "text": [
            "02 1\n",
            "1993 1\n",
            "23 1\n",
            "24 2\n",
            "2521 1\n",
            "26 3\n",
            "3138 1\n",
            "47 1\n",
            "55 1\n",
            "6086 1\n",
            "632 2\n",
            "708 2\n",
            "about 1\n",
            "advanced 1\n",
            "ak 2\n",
            "al 1\n",
            "and 6\n",
            "anger 1\n",
            "angry 2\n",
            "apr 1\n",
            "article 1\n",
            "as 1\n",
            "be 2\n",
            "but 1\n",
            "can 1\n",
            "cellular 1\n",
            "changers 1\n",
            "christ 1\n",
            "christian 1\n",
            "circle 2\n",
            "com 3\n",
            "data 1\n",
            "development 1\n",
            "division 1\n",
            "down 1\n",
            "drew 2\n",
            "driving 1\n",
            "edu 1\n",
            "ephesians 1\n",
            "et 1\n",
            "fig 1\n",
            "flout 1\n",
            "from 1\n",
            "geneva 1\n",
            "go 1\n",
            "had 1\n",
            "heretic 1\n",
            "him 2\n",
            "his 1\n",
            "human 1\n",
            "in 2\n",
            "instances 1\n",
            "is 1\n",
            "jcj 2\n",
            "jesus 1\n",
            "jon 3\n",
            "jono 2\n",
            "let 1\n",
            "like 1\n",
            "lines 1\n",
            "losing 1\n",
            "love 1\n",
            "lpa 1\n",
            "mac 2\n",
            "money 1\n",
            "mot 2\n",
            "motorola 2\n",
            "not 3\n",
            "obviously 1\n",
            "of 5\n",
            "ogden 2\n",
            "organization 1\n",
            "out 2\n",
            "part 1\n",
            "paul 1\n",
            "people 1\n",
            "products 1\n",
            "re 1\n",
            "rebel 1\n",
            "remind 1\n",
            "rtsg 2\n",
            "rutgers 1\n",
            "saying 1\n",
            "showing 1\n",
            "shut 1\n",
            "side 1\n",
            "sin 1\n",
            "sinning 1\n",
            "subject 1\n",
            "sun 1\n",
            "tellabs 1\n",
            "temper 1\n",
            "temple 1\n",
            "the 6\n",
            "then 1\n",
            "they 1\n",
            "thing 1\n",
            "think 1\n",
            "those 1\n",
            "to 3\n",
            "took 1\n",
            "trait 1\n",
            "tree 1\n",
            "two 1\n",
            "upon 1\n",
            "voice 1\n",
            "we 2\n",
            "were 1\n",
            "what 1\n",
            "win 1\n",
            "wit 1\n",
            "withering 1\n",
            "wrath 1\n",
            "wrote 1\n",
            "ye 1\n",
            "yes 1\n",
            "your 2\n"
          ]
        }
      ]
    },
    {
      "cell_type": "code",
      "metadata": {
        "id": "Px1iSrjD0BNb"
      },
      "source": [
        "# from sklearn.naive_bayes import MultinomialNB\n",
        "# from sklearn.metrics import classification_report, ConfusionMatrixDisplay\n",
        "\n",
        "# clf = .....\n",
        "# clf.fit(X, train.target)\n",
        "\n",
        "# X_teste = vec.transform(test.data)\n",
        "# y_pred = clf.predict(X_teste) # No need to convert to array here"
      ],
      "execution_count": 88,
      "outputs": []
    },
    {
      "cell_type": "code",
      "metadata": {
        "id": "2iPdRvxaTTFN",
        "colab": {
          "base_uri": "https://localhost:8080/",
          "height": 640
        },
        "outputId": "483703c8-d06c-4ed3-debd-d3c20aa1fd0b"
      },
      "source": [
        "# print(classification_report(test.target, y_pred))\n",
        "\n",
        "# ConfusionMatrixDisplay.from_estimator(clf, X_teste, test.target, normalize='true')\n",
        "# plt.show()"
      ],
      "execution_count": 89,
      "outputs": [
        {
          "output_type": "stream",
          "name": "stdout",
          "text": [
            "              precision    recall  f1-score   support\n",
            "\n",
            "           0       0.95      0.95      0.95       389\n",
            "           1       0.94      0.96      0.95       394\n",
            "           2       0.87      0.95      0.91       398\n",
            "           3       0.92      0.74      0.82       251\n",
            "\n",
            "    accuracy                           0.92      1432\n",
            "   macro avg       0.92      0.90      0.91      1432\n",
            "weighted avg       0.92      0.92      0.92      1432\n",
            "\n"
          ]
        },
        {
          "output_type": "display_data",
          "data": {
            "text/plain": [
              "<Figure size 640x480 with 2 Axes>"
            ],
            "image/png": "[encoded data removed]"
          },
          "metadata": {}
        }
      ]
    },
    {
      "cell_type": "markdown",
      "source": [
        "Usando pipeline"
      ],
      "metadata": {
        "id": "YyNtjAx_jexf"
      }
    },
    {
      "cell_type": "code",
      "metadata": {
        "id": "fevDbkjGVvNg",
        "colab": {
          "base_uri": "https://localhost:8080/",
          "height": 640
        },
        "outputId": "b5196248-f6bc-4c2a-9859-ab97e76ceb94"
      },
      "source": [
        "# from sklearn.pipeline import make_pipeline\n",
        "\n",
        "# model = make_pipeline(CountVectorizer(stop_words='english'),  MultinomialNB())\n",
        "\n",
        "# model.fit( train.data, train.target )\n",
        "\n",
        "# labels = model.predict( test.data )\n",
        "\n",
        "# print(classification_report(test.target, labels))\n",
        "\n",
        "# ConfusionMatrixDisplay.from_estimator(model, test.data, test.target, normalize='true');\n",
        "# plt.show()"
      ],
      "execution_count": 90,
      "outputs": [
        {
          "output_type": "stream",
          "name": "stdout",
          "text": [
            "              precision    recall  f1-score   support\n",
            "\n",
            "           0       0.95      0.96      0.95       389\n",
            "           1       0.95      0.96      0.95       394\n",
            "           2       0.90      0.95      0.93       398\n",
            "           3       0.92      0.78      0.85       251\n",
            "\n",
            "    accuracy                           0.93      1432\n",
            "   macro avg       0.93      0.92      0.92      1432\n",
            "weighted avg       0.93      0.93      0.93      1432\n",
            "\n"
          ]
        },
        {
          "output_type": "display_data",
          "data": {
            "text/plain": [
              "<Figure size 640x480 with 2 Axes>"
            ],
            "image/png": "[encoded data removed]"
          },
          "metadata": {}
        }
      ]
    },
    {
      "cell_type": "code",
      "metadata": {
        "id": "SrUllPJrV98Y",
        "colab": {
          "base_uri": "https://localhost:8080/"
        },
        "outputId": "1102b7e0-f6ca-4d5a-d5bb-aab4437510a4"
      },
      "source": [
        "# def predict_category(s, train=train, model=model):\n",
        "#     pred = model.predict([s])\n",
        "#     return train.target_names[pred[0]]\n",
        "\n",
        "# print(predict_category('sending a payload to the ISS'))\n",
        "\n",
        "# print(predict_category('discussing islam vs atheism'))\n",
        "\n",
        "# print(predict_category('determining the screen resolution'))\n",
        "\n",
        "# print(predict_category('While there are diverse interpretations of Christianity which sometimes conflict'))\n",
        "\n",
        "# print(predict_category('lets celebrate easter'))\n",
        "\n",
        "# print(predict_category('bread cheese rice'))\n",
        "\n",
        "# print(model.predict_proba(['While there are diverse interpretations of Christianity which sometimes conflict']))\n",
        "# print(model.predict_proba(['bread cheese rice']))"
      ],
      "execution_count": 91,
      "outputs": [
        {
          "output_type": "stream",
          "name": "stdout",
          "text": [
            "sci.space\n",
            "soc.religion.christian\n",
            "comp.graphics\n",
            "soc.religion.christian\n",
            "soc.religion.christian\n",
            "talk.religion.misc\n",
            "[[5.89686392e-05 5.50025221e-05 7.84662661e-01 2.15223367e-01]]\n",
            "[[0.02302286 0.0173903  0.45472047 0.50486637]]\n"
          ]
        }
      ]
    },
    {
      "cell_type": "markdown",
      "metadata": {
        "id": "kF0B7Yw_VB9z"
      },
      "source": [
        "Agora usando TF-IDF"
      ]
    },
    {
      "cell_type": "code",
      "metadata": {
        "id": "fCJK4d-MaOcF",
        "colab": {
          "base_uri": "https://localhost:8080/",
          "height": 640
        },
        "outputId": "50702aed-11e7-4bea-ec0b-173cfd95d6fe"
      },
      "source": [
        "# from sklearn.feature_extraction.text import TfidfVectorizer\n",
        "\n",
        "# model = make_pipeline(TfidfVectorizer(stop_words='english'), MultinomialNB( ))\n",
        "\n",
        "# model.fit(train.data, ...)\n",
        "\n",
        "# labels = model.predict(test.data)\n",
        "\n",
        "# print(classification_report(test.target, labels))\n",
        "\n",
        "# ConfusionMatrixDisplay.from_estimator(model, test.data, test.target, normalize='true');\n",
        "# plt.show()"
      ],
      "execution_count": 92,
      "outputs": [
        {
          "output_type": "stream",
          "name": "stdout",
          "text": [
            "              precision    recall  f1-score   support\n",
            "\n",
            "           0       0.96      0.94      0.95       389\n",
            "           1       0.91      0.96      0.93       394\n",
            "           2       0.72      0.98      0.83       398\n",
            "           3       0.98      0.36      0.53       251\n",
            "\n",
            "    accuracy                           0.86      1432\n",
            "   macro avg       0.89      0.81      0.81      1432\n",
            "weighted avg       0.88      0.86      0.84      1432\n",
            "\n"
          ]
        },
        {
          "output_type": "display_data",
          "data": {
            "text/plain": [
              "<Figure size 640x480 with 2 Axes>"
            ],
            "image/png": "[encoded data removed]"
          },
          "metadata": {}
        }
      ]
    },
    {
      "cell_type": "code",
      "source": [
        "# tfidf = TfidfVectorizer(stop_words='english')\n",
        "# tfidf.fit_transform(train.data).toarray()[0,1000:1100]"
      ],
      "metadata": {
        "id": "TBjncsAvYSEf",
        "colab": {
          "base_uri": "https://localhost:8080/"
        },
        "outputId": "3d5c3a22-0969-433e-df31-9c43faf460b4"
      },
      "execution_count": 99,
      "outputs": [
        {
          "output_type": "execute_result",
          "data": {
            "text/plain": [
              "array([0.        , 0.        , 0.        , 0.        , 0.        ,\n",
              "       0.        , 0.        , 0.        , 0.        , 0.        ,\n",
              "       0.        , 0.        , 0.        , 0.        , 0.        ,\n",
              "       0.        , 0.        , 0.        , 0.        , 0.        ,\n",
              "       0.        , 0.        , 0.        , 0.        , 0.        ,\n",
              "       0.        , 0.        , 0.        , 0.        , 0.        ,\n",
              "       0.        , 0.        , 0.        , 0.        , 0.        ,\n",
              "       0.        , 0.        , 0.        , 0.        , 0.        ,\n",
              "       0.        , 0.        , 0.        , 0.        , 0.        ,\n",
              "       0.        , 0.        , 0.        , 0.        , 0.        ,\n",
              "       0.        , 0.        , 0.        , 0.        , 0.        ,\n",
              "       0.        , 0.04313461, 0.        , 0.        , 0.        ,\n",
              "       0.        , 0.        , 0.        , 0.        , 0.        ,\n",
              "       0.        , 0.        , 0.        , 0.        , 0.        ,\n",
              "       0.        , 0.        , 0.        , 0.        , 0.        ,\n",
              "       0.        , 0.        , 0.        , 0.        , 0.        ,\n",
              "       0.        , 0.        , 0.        , 0.        , 0.        ,\n",
              "       0.        , 0.        , 0.        , 0.        , 0.        ,\n",
              "       0.        , 0.        , 0.        , 0.        , 0.        ,\n",
              "       0.        , 0.        , 0.        , 0.        , 0.        ])"
            ]
          },
          "metadata": {},
          "execution_count": 99
        }
      ]
    },
    {
      "cell_type": "markdown",
      "source": [
        "O TfidfVectorizer não retorna contagens, mas sim pontuações de ponto flutuante (floats) que representam a importância. Acontece que, na prática, a implementação do MultinomialNB no Scikit-learn (e a matemática por trás) é flexível o suficiente para lidar com isso por duas razões principais:\n",
        "\n",
        "* Valores Não-Negativos: A matemática do MultinomialNB funciona perfeitamente bem com quaisquer valores de feature que não sejam negativos. Tanto as contagens de palavras (0, 1, 2, ...) quanto as pontuações TF-IDF (0.0, 0.15, 0.87, ...) satisfazem essa condição.\n",
        "\n",
        "* O Modelo Aprende \"Pesos\" em Vez de \"Contagens\": Em vez de calcular a probabilidade a partir de contagens de palavras, o modelo simplesmente calcula a probabilidade a partir da soma das pontuações TF-IDF.\n",
        "\n",
        "A fórmula efetivamente se torna:\n",
        "\n",
        "$$P(\\text{palavra}_i | \\text{classe}) \\approx \\frac{\\text{soma das pontuações TF-IDF da palavra}_i \\text{ na classe}}{\\text{soma total de todas as pontuações TF-IDF na classe}}$$\n",
        "\n",
        "O modelo não se importa se os números são contagens inteiras ou pesos fracionários. Ele apenas aprende o \"peso\" médio de cada palavra para cada classe. Palavras com altas pontuações TF-IDF em documentos de uma certa classe aumentarão a probabilidade de um novo documento pertencer a essa classe, da mesma forma que palavras com altas contagens fariam."
      ],
      "metadata": {
        "id": "LOsMJjwNbe-t"
      }
    },
    {
      "cell_type": "markdown",
      "source": [
        "## Validação cruzada"
      ],
      "metadata": {
        "id": "O5vPW_t4kJx8"
      }
    },
    {
      "cell_type": "markdown",
      "source": [
        "Com este dataset existe o seguinte problema: poucos dados (ou seja poucas noticias) e a natureza dos textos pode ser muito diversa.\n",
        "\n",
        "Então, paratermos um melhor modelo vamos usar validação cruzada. Isto será umaalternativa à aula anterior que usamos varias vezes o hold-out num loop com diferentes random seeds.\n",
        "\n",
        "O caso mais simples seria separar o conjunto em k-CV, onde k é a quantidade de partições."
      ],
      "metadata": {
        "id": "YQCXddozkM6g"
      }
    },
    {
      "cell_type": "markdown",
      "source": [
        "![image.png](data:image/png;base64,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)"
      ],
      "metadata": {
        "id": "aWcvtMt-maiA"
      }
    },
    {
      "cell_type": "code",
      "source": [
        "# from sklearn.model_selection import train_test_split\n",
        "# from sklearn.metrics import accuracy_score\n",
        "\n",
        "# X1, X2, y1, y2 = train_test_split(..., train.target, random_state=0, train_size=0.5)\n",
        "\n",
        "# model = make_pipeline(TfidfVectorizer(stop_words='english'), MultinomialNB())\n",
        "\n",
        "# y2_model = model.fit(X1, y1).predict(X2)\n",
        "# y1_model = model.fit(X2, y2).predict(X1)\n",
        "\n",
        "# accuracy_score(y1, y1_model), accuracy_score(y2, y2_model)"
      ],
      "metadata": {
        "id": "pg-YoG9-ZYBy",
        "colab": {
          "base_uri": "https://localhost:8080/"
        },
        "outputId": "fbc78862-a417-495d-90b3-c7303c4c0afc"
      },
      "execution_count": 104,
      "outputs": [
        {
          "output_type": "execute_result",
          "data": {
            "text/plain": [
              "(0.870817843866171, 0.8820798514391829)"
            ]
          },
          "metadata": {},
          "execution_count": 104
        }
      ]
    },
    {
      "cell_type": "markdown",
      "source": [
        "![image.png](data:image/png;base64,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)"
      ],
      "metadata": {
        "id": "aW13TctEmkWd"
      }
    },
    {
      "cell_type": "code",
      "source": [
        "# from sklearn.model_selection import cross_val_score\n",
        "\n",
        "# model = make_pipeline(TfidfVectorizer(stop_words='english'), MultinomialNB())\n",
        "\n",
        "# scores = cross_val_score(model, train.data, train.target, cv=5)\n",
        "# scores"
      ],
      "metadata": {
        "colab": {
          "base_uri": "https://localhost:8080/"
        },
        "id": "hC49JhN6meaV",
        "outputId": "a9d003b5-1ea1-4611-a995-aa7fc4b46fd3"
      },
      "execution_count": 107,
      "outputs": [
        {
          "output_type": "execute_result",
          "data": {
            "text/plain": [
              "array([0.88167053, 0.90487239, 0.89559165, 0.89302326, 0.89302326])"
            ]
          },
          "metadata": {},
          "execution_count": 107
        }
      ]
    },
    {
      "cell_type": "code",
      "source": [
        "# scores.mean(), scores.std()"
      ],
      "metadata": {
        "colab": {
          "base_uri": "https://localhost:8080/"
        },
        "id": "RS4eFoYMm0Au",
        "outputId": "0f1584fe-1a66-4f3b-caed-f482e541cff2"
      },
      "execution_count": 108,
      "outputs": [
        {
          "output_type": "execute_result",
          "data": {
            "text/plain": [
              "np.float64(0.8936362164787137)"
            ]
          },
          "metadata": {},
          "execution_count": 108
        }
      ]
    },
    {
      "cell_type": "code",
      "source": [
        "# len(train.data)"
      ],
      "metadata": {
        "colab": {
          "base_uri": "https://localhost:8080/"
        },
        "id": "Wf8UOn5hpyd8",
        "outputId": "d3a9e4be-0421-4483-c139-68af58c27dfd"
      },
      "execution_count": 110,
      "outputs": [
        {
          "output_type": "execute_result",
          "data": {
            "text/plain": [
              "2153"
            ]
          },
          "metadata": {},
          "execution_count": 110
        }
      ]
    },
    {
      "cell_type": "markdown",
      "source": [
        "No caso extremo, podemos usar leave-one-out"
      ],
      "metadata": {
        "id": "CBuKP20tnCny"
      }
    },
    {
      "cell_type": "code",
      "source": [
        "# from sklearn.model_selection import LeaveOneOut\n",
        "\n",
        "# scores = cross_val_score(model, train.data, train.target, cv=LeaveOneOut())\n",
        "# scores.mean(), scores.std()"
      ],
      "metadata": {
        "colab": {
          "base_uri": "https://localhost:8080/",
          "height": 339
        },
        "id": "zkUTCocbnB5C",
        "outputId": "f846e506-7c40-4edd-a0ab-dfa6cb61fccb"
      },
      "execution_count": 112,
      "outputs": [
        {
          "output_type": "error",
          "ename": "ValueError",
          "evalue": "n_splits=2151 cannot be greater than the number of members in each class.",
          "traceback": [
            "\u001b[0;31m---------------------------------------------------------------------------\u001b[0m",
            "\u001b[0;31mValueError\u001b[0m                                Traceback (most recent call last)",
            "\u001b[0;32m/tmp/ipython-input-1674467312.py\u001b[0m in \u001b[0;36m<cell line: 0>\u001b[0;34m()\u001b[0m\n\u001b[1;32m      1\u001b[0m \u001b[0;32mfrom\u001b[0m \u001b[0msklearn\u001b[0m\u001b[0;34m.\u001b[0m\u001b[0mmodel_selection\u001b[0m \u001b[0;32mimport\u001b[0m \u001b[0mLeaveOneOut\u001b[0m\u001b[0;34m\u001b[0m\u001b[0;34m\u001b[0m\u001b[0m\n\u001b[1;32m      2\u001b[0m \u001b[0;34m\u001b[0m\u001b[0m\n\u001b[0;32m----> 3\u001b[0;31m \u001b[0mscores\u001b[0m \u001b[0;34m=\u001b[0m \u001b[0mcross_val_score\u001b[0m\u001b[0;34m(\u001b[0m\u001b[0mmodel\u001b[0m\u001b[0;34m,\u001b[0m \u001b[0mtrain\u001b[0m\u001b[0;34m.\u001b[0m\u001b[0mdata\u001b[0m\u001b[0;34m,\u001b[0m \u001b[0mtrain\u001b[0m\u001b[0;34m.\u001b[0m\u001b[0mtarget\u001b[0m\u001b[0;34m,\u001b[0m \u001b[0mcv\u001b[0m\u001b[0;34m=\u001b[0m\u001b[0;36m2151\u001b[0m\u001b[0;34m)\u001b[0m\u001b[0;34m\u001b[0m\u001b[0;34m\u001b[0m\u001b[0m\n\u001b[0m\u001b[1;32m      4\u001b[0m \u001b[0mscores\u001b[0m\u001b[0;34m.\u001b[0m\u001b[0mmean\u001b[0m\u001b[0;34m(\u001b[0m\u001b[0;34m)\u001b[0m\u001b[0;34m,\u001b[0m \u001b[0mscores\u001b[0m\u001b[0;34m.\u001b[0m\u001b[0mstd\u001b[0m\u001b[0;34m(\u001b[0m\u001b[0;34m)\u001b[0m\u001b[0;34m\u001b[0m\u001b[0;34m\u001b[0m\u001b[0m\n",
            "\u001b[0;32m/usr/local/lib/python3.12/dist-packages/sklearn/utils/_param_validation.py\u001b[0m in \u001b[0;36mwrapper\u001b[0;34m(*args, **kwargs)\u001b[0m\n\u001b[1;32m    214\u001b[0m                     )\n\u001b[1;32m    215\u001b[0m                 ):\n\u001b[0;32m--> 216\u001b[0;31m                     \u001b[0;32mreturn\u001b[0m \u001b[0mfunc\u001b[0m\u001b[0;34m(\u001b[0m\u001b[0;34m*\u001b[0m\u001b[0margs\u001b[0m\u001b[0;34m,\u001b[0m \u001b[0;34m**\u001b[0m\u001b[0mkwargs\u001b[0m\u001b[0;34m)\u001b[0m\u001b[0;34m\u001b[0m\u001b[0;34m\u001b[0m\u001b[0m\n\u001b[0m\u001b[1;32m    217\u001b[0m             \u001b[0;32mexcept\u001b[0m \u001b[0mInvalidParameterError\u001b[0m \u001b[0;32mas\u001b[0m \u001b[0me\u001b[0m\u001b[0;34m:\u001b[0m\u001b[0;34m\u001b[0m\u001b[0;34m\u001b[0m\u001b[0m\n\u001b[1;32m    218\u001b[0m                 \u001b[0;31m# When the function is just a wrapper around an estimator, we allow\u001b[0m\u001b[0;34m\u001b[0m\u001b[0;34m\u001b[0m\u001b[0m\n",
            "\u001b[0;32m/usr/local/lib/python3.12/dist-packages/sklearn/model_selection/_validation.py\u001b[0m in \u001b[0;36mcross_val_score\u001b[0;34m(estimator, X, y, groups, scoring, cv, n_jobs, verbose, params, pre_dispatch, error_score)\u001b[0m\n\u001b[1;32m    682\u001b[0m     \u001b[0mscorer\u001b[0m \u001b[0;34m=\u001b[0m \u001b[0mcheck_scoring\u001b[0m\u001b[0;34m(\u001b[0m\u001b[0mestimator\u001b[0m\u001b[0;34m,\u001b[0m \u001b[0mscoring\u001b[0m\u001b[0;34m=\u001b[0m\u001b[0mscoring\u001b[0m\u001b[0;34m)\u001b[0m\u001b[0;34m\u001b[0m\u001b[0;34m\u001b[0m\u001b[0m\n\u001b[1;32m    683\u001b[0m \u001b[0;34m\u001b[0m\u001b[0m\n\u001b[0;32m--> 684\u001b[0;31m     cv_results = cross_validate(\n\u001b[0m\u001b[1;32m    685\u001b[0m         \u001b[0mestimator\u001b[0m\u001b[0;34m=\u001b[0m\u001b[0mestimator\u001b[0m\u001b[0;34m,\u001b[0m\u001b[0;34m\u001b[0m\u001b[0;34m\u001b[0m\u001b[0m\n\u001b[1;32m    686\u001b[0m         \u001b[0mX\u001b[0m\u001b[0;34m=\u001b[0m\u001b[0mX\u001b[0m\u001b[0;34m,\u001b[0m\u001b[0;34m\u001b[0m\u001b[0;34m\u001b[0m\u001b[0m\n",
            "\u001b[0;32m/usr/local/lib/python3.12/dist-packages/sklearn/utils/_param_validation.py\u001b[0m in \u001b[0;36mwrapper\u001b[0;34m(*args, **kwargs)\u001b[0m\n\u001b[1;32m    214\u001b[0m                     )\n\u001b[1;32m    215\u001b[0m                 ):\n\u001b[0;32m--> 216\u001b[0;31m                     \u001b[0;32mreturn\u001b[0m \u001b[0mfunc\u001b[0m\u001b[0;34m(\u001b[0m\u001b[0;34m*\u001b[0m\u001b[0margs\u001b[0m\u001b[0;34m,\u001b[0m \u001b[0;34m**\u001b[0m\u001b[0mkwargs\u001b[0m\u001b[0;34m)\u001b[0m\u001b[0;34m\u001b[0m\u001b[0;34m\u001b[0m\u001b[0m\n\u001b[0m\u001b[1;32m    217\u001b[0m             \u001b[0;32mexcept\u001b[0m \u001b[0mInvalidParameterError\u001b[0m \u001b[0;32mas\u001b[0m \u001b[0me\u001b[0m\u001b[0;34m:\u001b[0m\u001b[0;34m\u001b[0m\u001b[0;34m\u001b[0m\u001b[0m\n\u001b[1;32m    218\u001b[0m                 \u001b[0;31m# When the function is just a wrapper around an estimator, we allow\u001b[0m\u001b[0;34m\u001b[0m\u001b[0;34m\u001b[0m\u001b[0m\n",
            "\u001b[0;32m/usr/local/lib/python3.12/dist-packages/sklearn/model_selection/_validation.py\u001b[0m in \u001b[0;36mcross_validate\u001b[0;34m(estimator, X, y, groups, scoring, cv, n_jobs, verbose, params, pre_dispatch, return_train_score, return_estimator, return_indices, error_score)\u001b[0m\n\u001b[1;32m    409\u001b[0m     \u001b[0;31m# independent, and that it is pickle-able.\u001b[0m\u001b[0;34m\u001b[0m\u001b[0;34m\u001b[0m\u001b[0m\n\u001b[1;32m    410\u001b[0m     \u001b[0mparallel\u001b[0m \u001b[0;34m=\u001b[0m \u001b[0mParallel\u001b[0m\u001b[0;34m(\u001b[0m\u001b[0mn_jobs\u001b[0m\u001b[0;34m=\u001b[0m\u001b[0mn_jobs\u001b[0m\u001b[0;34m,\u001b[0m \u001b[0mverbose\u001b[0m\u001b[0;34m=\u001b[0m\u001b[0mverbose\u001b[0m\u001b[0;34m,\u001b[0m \u001b[0mpre_dispatch\u001b[0m\u001b[0;34m=\u001b[0m\u001b[0mpre_dispatch\u001b[0m\u001b[0;34m)\u001b[0m\u001b[0;34m\u001b[0m\u001b[0;34m\u001b[0m\u001b[0m\n\u001b[0;32m--> 411\u001b[0;31m     results = parallel(\n\u001b[0m\u001b[1;32m    412\u001b[0m         delayed(_fit_and_score)(\n\u001b[1;32m    413\u001b[0m             \u001b[0mclone\u001b[0m\u001b[0;34m(\u001b[0m\u001b[0mestimator\u001b[0m\u001b[0;34m)\u001b[0m\u001b[0;34m,\u001b[0m\u001b[0;34m\u001b[0m\u001b[0;34m\u001b[0m\u001b[0m\n",
            "\u001b[0;32m/usr/local/lib/python3.12/dist-packages/sklearn/utils/parallel.py\u001b[0m in \u001b[0;36m__call__\u001b[0;34m(self, iterable)\u001b[0m\n\u001b[1;32m     75\u001b[0m             \u001b[0;32mfor\u001b[0m \u001b[0mdelayed_func\u001b[0m\u001b[0;34m,\u001b[0m \u001b[0margs\u001b[0m\u001b[0;34m,\u001b[0m \u001b[0mkwargs\u001b[0m \u001b[0;32min\u001b[0m \u001b[0miterable\u001b[0m\u001b[0;34m\u001b[0m\u001b[0;34m\u001b[0m\u001b[0m\n\u001b[1;32m     76\u001b[0m         )\n\u001b[0;32m---> 77\u001b[0;31m         \u001b[0;32mreturn\u001b[0m \u001b[0msuper\u001b[0m\u001b[0;34m(\u001b[0m\u001b[0;34m)\u001b[0m\u001b[0;34m.\u001b[0m\u001b[0m__call__\u001b[0m\u001b[0;34m(\u001b[0m\u001b[0miterable_with_config\u001b[0m\u001b[0;34m)\u001b[0m\u001b[0;34m\u001b[0m\u001b[0;34m\u001b[0m\u001b[0m\n\u001b[0m\u001b[1;32m     78\u001b[0m \u001b[0;34m\u001b[0m\u001b[0m\n\u001b[1;32m     79\u001b[0m \u001b[0;34m\u001b[0m\u001b[0m\n",
            "\u001b[0;32m/usr/local/lib/python3.12/dist-packages/joblib/parallel.py\u001b[0m in \u001b[0;36m__call__\u001b[0;34m(self, iterable)\u001b[0m\n\u001b[1;32m   1984\u001b[0m             \u001b[0moutput\u001b[0m \u001b[0;34m=\u001b[0m \u001b[0mself\u001b[0m\u001b[0;34m.\u001b[0m\u001b[0m_get_sequential_output\u001b[0m\u001b[0;34m(\u001b[0m\u001b[0miterable\u001b[0m\u001b[0;34m)\u001b[0m\u001b[0;34m\u001b[0m\u001b[0;34m\u001b[0m\u001b[0m\n\u001b[1;32m   1985\u001b[0m             \u001b[0mnext\u001b[0m\u001b[0;34m(\u001b[0m\u001b[0moutput\u001b[0m\u001b[0;34m)\u001b[0m\u001b[0;34m\u001b[0m\u001b[0;34m\u001b[0m\u001b[0m\n\u001b[0;32m-> 1986\u001b[0;31m             \u001b[0;32mreturn\u001b[0m \u001b[0moutput\u001b[0m \u001b[0;32mif\u001b[0m \u001b[0mself\u001b[0m\u001b[0;34m.\u001b[0m\u001b[0mreturn_generator\u001b[0m \u001b[0;32melse\u001b[0m \u001b[0mlist\u001b[0m\u001b[0;34m(\u001b[0m\u001b[0moutput\u001b[0m\u001b[0;34m)\u001b[0m\u001b[0;34m\u001b[0m\u001b[0;34m\u001b[0m\u001b[0m\n\u001b[0m\u001b[1;32m   1987\u001b[0m \u001b[0;34m\u001b[0m\u001b[0m\n\u001b[1;32m   1988\u001b[0m         \u001b[0;31m# Let's create an ID that uniquely identifies the current call. If the\u001b[0m\u001b[0;34m\u001b[0m\u001b[0;34m\u001b[0m\u001b[0m\n",
            "\u001b[0;32m/usr/local/lib/python3.12/dist-packages/joblib/parallel.py\u001b[0m in \u001b[0;36m_get_sequential_output\u001b[0;34m(self, iterable)\u001b[0m\n\u001b[1;32m   1909\u001b[0m \u001b[0;34m\u001b[0m\u001b[0m\n\u001b[1;32m   1910\u001b[0m             \u001b[0;31m# Sequentially call the tasks and yield the results.\u001b[0m\u001b[0;34m\u001b[0m\u001b[0;34m\u001b[0m\u001b[0m\n\u001b[0;32m-> 1911\u001b[0;31m             \u001b[0;32mfor\u001b[0m \u001b[0mfunc\u001b[0m\u001b[0;34m,\u001b[0m \u001b[0margs\u001b[0m\u001b[0;34m,\u001b[0m \u001b[0mkwargs\u001b[0m \u001b[0;32min\u001b[0m \u001b[0miterable\u001b[0m\u001b[0;34m:\u001b[0m\u001b[0;34m\u001b[0m\u001b[0;34m\u001b[0m\u001b[0m\n\u001b[0m\u001b[1;32m   1912\u001b[0m                 \u001b[0mself\u001b[0m\u001b[0;34m.\u001b[0m\u001b[0mn_dispatched_batches\u001b[0m \u001b[0;34m+=\u001b[0m \u001b[0;36m1\u001b[0m\u001b[0;34m\u001b[0m\u001b[0;34m\u001b[0m\u001b[0m\n\u001b[1;32m   1913\u001b[0m                 \u001b[0mself\u001b[0m\u001b[0;34m.\u001b[0m\u001b[0mn_dispatched_tasks\u001b[0m \u001b[0;34m+=\u001b[0m \u001b[0;36m1\u001b[0m\u001b[0;34m\u001b[0m\u001b[0;34m\u001b[0m\u001b[0m\n",
            "\u001b[0;32m/usr/local/lib/python3.12/dist-packages/sklearn/utils/parallel.py\u001b[0m in \u001b[0;36m<genexpr>\u001b[0;34m(.0)\u001b[0m\n\u001b[1;32m     73\u001b[0m         iterable_with_config = (\n\u001b[1;32m     74\u001b[0m             \u001b[0;34m(\u001b[0m\u001b[0m_with_config\u001b[0m\u001b[0;34m(\u001b[0m\u001b[0mdelayed_func\u001b[0m\u001b[0;34m,\u001b[0m \u001b[0mconfig\u001b[0m\u001b[0;34m)\u001b[0m\u001b[0;34m,\u001b[0m \u001b[0margs\u001b[0m\u001b[0;34m,\u001b[0m \u001b[0mkwargs\u001b[0m\u001b[0;34m)\u001b[0m\u001b[0;34m\u001b[0m\u001b[0;34m\u001b[0m\u001b[0m\n\u001b[0;32m---> 75\u001b[0;31m             \u001b[0;32mfor\u001b[0m \u001b[0mdelayed_func\u001b[0m\u001b[0;34m,\u001b[0m \u001b[0margs\u001b[0m\u001b[0;34m,\u001b[0m \u001b[0mkwargs\u001b[0m \u001b[0;32min\u001b[0m \u001b[0miterable\u001b[0m\u001b[0;34m\u001b[0m\u001b[0;34m\u001b[0m\u001b[0m\n\u001b[0m\u001b[1;32m     76\u001b[0m         )\n\u001b[1;32m     77\u001b[0m         \u001b[0;32mreturn\u001b[0m \u001b[0msuper\u001b[0m\u001b[0;34m(\u001b[0m\u001b[0;34m)\u001b[0m\u001b[0;34m.\u001b[0m\u001b[0m__call__\u001b[0m\u001b[0;34m(\u001b[0m\u001b[0miterable_with_config\u001b[0m\u001b[0;34m)\u001b[0m\u001b[0;34m\u001b[0m\u001b[0;34m\u001b[0m\u001b[0m\n",
            "\u001b[0;32m/usr/local/lib/python3.12/dist-packages/sklearn/model_selection/_validation.py\u001b[0m in \u001b[0;36m<genexpr>\u001b[0;34m(.0)\u001b[0m\n\u001b[1;32m    426\u001b[0m             \u001b[0merror_score\u001b[0m\u001b[0;34m=\u001b[0m\u001b[0merror_score\u001b[0m\u001b[0;34m,\u001b[0m\u001b[0;34m\u001b[0m\u001b[0;34m\u001b[0m\u001b[0m\n\u001b[1;32m    427\u001b[0m         )\n\u001b[0;32m--> 428\u001b[0;31m         \u001b[0;32mfor\u001b[0m \u001b[0mtrain\u001b[0m\u001b[0;34m,\u001b[0m \u001b[0mtest\u001b[0m \u001b[0;32min\u001b[0m \u001b[0mindices\u001b[0m\u001b[0;34m\u001b[0m\u001b[0;34m\u001b[0m\u001b[0m\n\u001b[0m\u001b[1;32m    429\u001b[0m     )\n\u001b[1;32m    430\u001b[0m \u001b[0;34m\u001b[0m\u001b[0m\n",
            "\u001b[0;32m/usr/local/lib/python3.12/dist-packages/sklearn/model_selection/_split.py\u001b[0m in \u001b[0;36msplit\u001b[0;34m(self, X, y, groups)\u001b[0m\n\u001b[1;32m    409\u001b[0m             )\n\u001b[1;32m    410\u001b[0m \u001b[0;34m\u001b[0m\u001b[0m\n\u001b[0;32m--> 411\u001b[0;31m         \u001b[0;32mfor\u001b[0m \u001b[0mtrain\u001b[0m\u001b[0;34m,\u001b[0m \u001b[0mtest\u001b[0m \u001b[0;32min\u001b[0m \u001b[0msuper\u001b[0m\u001b[0;34m(\u001b[0m\u001b[0;34m)\u001b[0m\u001b[0;34m.\u001b[0m\u001b[0msplit\u001b[0m\u001b[0;34m(\u001b[0m\u001b[0mX\u001b[0m\u001b[0;34m,\u001b[0m \u001b[0my\u001b[0m\u001b[0;34m,\u001b[0m \u001b[0mgroups\u001b[0m\u001b[0;34m)\u001b[0m\u001b[0;34m:\u001b[0m\u001b[0;34m\u001b[0m\u001b[0;34m\u001b[0m\u001b[0m\n\u001b[0m\u001b[1;32m    412\u001b[0m             \u001b[0;32myield\u001b[0m \u001b[0mtrain\u001b[0m\u001b[0;34m,\u001b[0m \u001b[0mtest\u001b[0m\u001b[0;34m\u001b[0m\u001b[0;34m\u001b[0m\u001b[0m\n\u001b[1;32m    413\u001b[0m \u001b[0;34m\u001b[0m\u001b[0m\n",
            "\u001b[0;32m/usr/local/lib/python3.12/dist-packages/sklearn/model_selection/_split.py\u001b[0m in \u001b[0;36msplit\u001b[0;34m(self, X, y, groups)\u001b[0m\n\u001b[1;32m    140\u001b[0m         \u001b[0mX\u001b[0m\u001b[0;34m,\u001b[0m \u001b[0my\u001b[0m\u001b[0;34m,\u001b[0m \u001b[0mgroups\u001b[0m \u001b[0;34m=\u001b[0m \u001b[0mindexable\u001b[0m\u001b[0;34m(\u001b[0m\u001b[0mX\u001b[0m\u001b[0;34m,\u001b[0m \u001b[0my\u001b[0m\u001b[0;34m,\u001b[0m \u001b[0mgroups\u001b[0m\u001b[0;34m)\u001b[0m\u001b[0;34m\u001b[0m\u001b[0;34m\u001b[0m\u001b[0m\n\u001b[1;32m    141\u001b[0m         \u001b[0mindices\u001b[0m \u001b[0;34m=\u001b[0m \u001b[0mnp\u001b[0m\u001b[0;34m.\u001b[0m\u001b[0marange\u001b[0m\u001b[0;34m(\u001b[0m\u001b[0m_num_samples\u001b[0m\u001b[0;34m(\u001b[0m\u001b[0mX\u001b[0m\u001b[0;34m)\u001b[0m\u001b[0;34m)\u001b[0m\u001b[0;34m\u001b[0m\u001b[0;34m\u001b[0m\u001b[0m\n\u001b[0;32m--> 142\u001b[0;31m         \u001b[0;32mfor\u001b[0m \u001b[0mtest_index\u001b[0m \u001b[0;32min\u001b[0m \u001b[0mself\u001b[0m\u001b[0;34m.\u001b[0m\u001b[0m_iter_test_masks\u001b[0m\u001b[0;34m(\u001b[0m\u001b[0mX\u001b[0m\u001b[0;34m,\u001b[0m \u001b[0my\u001b[0m\u001b[0;34m,\u001b[0m \u001b[0mgroups\u001b[0m\u001b[0;34m)\u001b[0m\u001b[0;34m:\u001b[0m\u001b[0;34m\u001b[0m\u001b[0;34m\u001b[0m\u001b[0m\n\u001b[0m\u001b[1;32m    143\u001b[0m             \u001b[0mtrain_index\u001b[0m \u001b[0;34m=\u001b[0m \u001b[0mindices\u001b[0m\u001b[0;34m[\u001b[0m\u001b[0mnp\u001b[0m\u001b[0;34m.\u001b[0m\u001b[0mlogical_not\u001b[0m\u001b[0;34m(\u001b[0m\u001b[0mtest_index\u001b[0m\u001b[0;34m)\u001b[0m\u001b[0;34m]\u001b[0m\u001b[0;34m\u001b[0m\u001b[0;34m\u001b[0m\u001b[0m\n\u001b[1;32m    144\u001b[0m             \u001b[0mtest_index\u001b[0m \u001b[0;34m=\u001b[0m \u001b[0mindices\u001b[0m\u001b[0;34m[\u001b[0m\u001b[0mtest_index\u001b[0m\u001b[0;34m]\u001b[0m\u001b[0;34m\u001b[0m\u001b[0;34m\u001b[0m\u001b[0m\n",
            "\u001b[0;32m/usr/local/lib/python3.12/dist-packages/sklearn/model_selection/_split.py\u001b[0m in \u001b[0;36m_iter_test_masks\u001b[0;34m(self, X, y, groups)\u001b[0m\n\u001b[1;32m    836\u001b[0m \u001b[0;34m\u001b[0m\u001b[0m\n\u001b[1;32m    837\u001b[0m     \u001b[0;32mdef\u001b[0m \u001b[0m_iter_test_masks\u001b[0m\u001b[0;34m(\u001b[0m\u001b[0mself\u001b[0m\u001b[0;34m,\u001b[0m \u001b[0mX\u001b[0m\u001b[0;34m,\u001b[0m \u001b[0my\u001b[0m\u001b[0;34m=\u001b[0m\u001b[0;32mNone\u001b[0m\u001b[0;34m,\u001b[0m \u001b[0mgroups\u001b[0m\u001b[0;34m=\u001b[0m\u001b[0;32mNone\u001b[0m\u001b[0;34m)\u001b[0m\u001b[0;34m:\u001b[0m\u001b[0;34m\u001b[0m\u001b[0;34m\u001b[0m\u001b[0m\n\u001b[0;32m--> 838\u001b[0;31m         \u001b[0mtest_folds\u001b[0m \u001b[0;34m=\u001b[0m \u001b[0mself\u001b[0m\u001b[0;34m.\u001b[0m\u001b[0m_make_test_folds\u001b[0m\u001b[0;34m(\u001b[0m\u001b[0mX\u001b[0m\u001b[0;34m,\u001b[0m \u001b[0my\u001b[0m\u001b[0;34m)\u001b[0m\u001b[0;34m\u001b[0m\u001b[0;34m\u001b[0m\u001b[0m\n\u001b[0m\u001b[1;32m    839\u001b[0m         \u001b[0;32mfor\u001b[0m \u001b[0mi\u001b[0m \u001b[0;32min\u001b[0m \u001b[0mrange\u001b[0m\u001b[0;34m(\u001b[0m\u001b[0mself\u001b[0m\u001b[0;34m.\u001b[0m\u001b[0mn_splits\u001b[0m\u001b[0;34m)\u001b[0m\u001b[0;34m:\u001b[0m\u001b[0;34m\u001b[0m\u001b[0;34m\u001b[0m\u001b[0m\n\u001b[1;32m    840\u001b[0m             \u001b[0;32myield\u001b[0m \u001b[0mtest_folds\u001b[0m \u001b[0;34m==\u001b[0m \u001b[0mi\u001b[0m\u001b[0;34m\u001b[0m\u001b[0;34m\u001b[0m\u001b[0m\n",
            "\u001b[0;32m/usr/local/lib/python3.12/dist-packages/sklearn/model_selection/_split.py\u001b[0m in \u001b[0;36m_make_test_folds\u001b[0;34m(self, X, y)\u001b[0m\n\u001b[1;32m    798\u001b[0m         \u001b[0mmin_groups\u001b[0m \u001b[0;34m=\u001b[0m \u001b[0mnp\u001b[0m\u001b[0;34m.\u001b[0m\u001b[0mmin\u001b[0m\u001b[0;34m(\u001b[0m\u001b[0my_counts\u001b[0m\u001b[0;34m)\u001b[0m\u001b[0;34m\u001b[0m\u001b[0;34m\u001b[0m\u001b[0m\n\u001b[1;32m    799\u001b[0m         \u001b[0;32mif\u001b[0m \u001b[0mnp\u001b[0m\u001b[0;34m.\u001b[0m\u001b[0mall\u001b[0m\u001b[0;34m(\u001b[0m\u001b[0mself\u001b[0m\u001b[0;34m.\u001b[0m\u001b[0mn_splits\u001b[0m \u001b[0;34m>\u001b[0m \u001b[0my_counts\u001b[0m\u001b[0;34m)\u001b[0m\u001b[0;34m:\u001b[0m\u001b[0;34m\u001b[0m\u001b[0;34m\u001b[0m\u001b[0m\n\u001b[0;32m--> 800\u001b[0;31m             raise ValueError(\n\u001b[0m\u001b[1;32m    801\u001b[0m                 \u001b[0;34m\"n_splits=%d cannot be greater than the\"\u001b[0m\u001b[0;34m\u001b[0m\u001b[0;34m\u001b[0m\u001b[0m\n\u001b[1;32m    802\u001b[0m                 \u001b[0;34m\" number of members in each class.\"\u001b[0m \u001b[0;34m%\u001b[0m \u001b[0;34m(\u001b[0m\u001b[0mself\u001b[0m\u001b[0;34m.\u001b[0m\u001b[0mn_splits\u001b[0m\u001b[0;34m)\u001b[0m\u001b[0;34m\u001b[0m\u001b[0;34m\u001b[0m\u001b[0m\n",
            "\u001b[0;31mValueError\u001b[0m: n_splits=2151 cannot be greater than the number of members in each class."
          ]
        }
      ]
    },
    {
      "cell_type": "code",
      "source": [],
      "metadata": {
        "id": "adCakzTRnT-Y"
      },
      "execution_count": null,
      "outputs": []
    },
    {
      "cell_type": "code",
      "source": [],
      "metadata": {
        "id": "PAmdP4JmnV1t"
      },
      "execution_count": null,
      "outputs": []
    }
  ]
}